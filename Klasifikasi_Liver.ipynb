

# Import Library yang dibutuhkan
import numpy as np
import pandas as pd
import seaborn as sns
import matplotlib.pyplot as plt
from collections import Counter
from imblearn.datasets import fetch_datasets
from sklearn.model_selection import train_test_split
from sklearn.neighbors import KNeighborsClassifier
from sklearn import svm
from sklearn.svm import SVC
from sklearn.svm import LinearSVC
from sklearn import tree
from sklearn.tree import DecisionTreeClassifier
from sklearn.naive_bayes import GaussianNB
from sklearn.naive_bayes import MultinomialNB
from sklearn.naive_bayes import CategoricalNB
from sklearn.naive_bayes import BernoulliNB
from sklearn.pipeline import make_pipeline
from sklearn.preprocessing import StandardScaler
from sklearn.metrics import mean_squared_error, r2_score, accuracy_score
from sklearn.metrics import accuracy_score, classification_report, confusion_matrix
from imblearn.metrics import classification_report_imbalanced
     

from google.colab import drive
drive.mount('/content')
     
Load Dataset


# Hubungkan dengan Google Drive
from google.colab import drive
drive.mount('/content/')
     

# Load dataset dari direktori google drive

data = pd.read_csv('/content/sample_data/Data Pasien penyakit liver.csv')
data
     
age	sex	cp	trestbps	chol	fbs	restecg	thalach	exang	oldpeak	slope	ca	thal	target
0	63	1	3	145	233	1	0	150	0	2.3	0	0	1	1
1	37	1	2	130	250	0	1	187	0	3.5	0	0	2	1
2	41	0	1	130	204	0	0	172	0	1.4	2	0	2	1
3	56	1	1	120	236	0	1	178	0	0.8	2	0	2	1
4	57	0	0	120	354	0	1	163	1	0.6	2	0	2	1
...	...	...	...	...	...	...	...	...	...	...	...	...	...	...
298	57	0	0	140	241	0	1	123	1	0.2	1	0	3	0
299	45	1	3	110	264	0	1	132	0	1.2	1	0	3	0
300	68	1	0	144	193	1	1	141	0	3.4	1	2	3	0
301	57	1	0	130	131	0	1	115	1	1.2	1	1	3	0
302	57	0	1	130	236	0	0	174	0	0.0	1	1	2	0
303 rows × 14 columns


# Menentukan Variabel X (Fitur/Atribut) dan Variabel y (Kelas/Label)

X= data.iloc[:, :-1]
y= data.values[:, -1]

pd.DataFrame(y).head()
     
0
0	1.0
1	1.0
2	1.0
3	1.0
4	1.0

# Membagi data menjadi data training dan data testing
# Data untuk testing 20%, data untuk training 80%

X_train, X_test, y_train, y_test = train_test_split(X, y, test_size = 0.2, random_state = 42)

     

# Inisiasi Model

model = BernoulliNB()

# Training model dengan .fit()

model.fit(X_train, y_train)
     
BernoulliNB()
In a Jupyter environment, please rerun this cell to show the HTML representation or trust the notebook.
On GitHub, the HTML representation is unable to render, please try loading this page with nbviewer.org.

# Prediksi pada data test

y_pred = model.predict(X_test)
y_pred
     
array([0., 1., 1., 0., 1., 1., 1., 0., 0., 0., 1., 1., 1., 0., 1., 1., 1.,
       0., 0., 0., 1., 0., 1., 1., 1., 1., 1., 0., 0., 1., 0., 0., 0., 0.,
       1., 0., 1., 1., 1., 1., 1., 1., 1., 1., 1., 0., 0., 1., 0., 0., 0.,
       0., 1., 1., 0., 0., 0., 1., 0., 0., 0.])

y_test
     
array([0., 0., 1., 0., 1., 1., 1., 0., 0., 1., 1., 1., 1., 0., 1., 1., 1.,
       0., 0., 0., 1., 0., 0., 1., 1., 0., 0., 1., 0., 1., 1., 0., 0., 1.,
       1., 0., 1., 1., 1., 1., 1., 1., 1., 1., 1., 0., 0., 1., 0., 0., 0.,
       0., 1., 1., 0., 0., 0., 1., 0., 0., 0.])

# Memeriksa antara hasil prediksi dan data aktual

df = pd.DataFrame({'Prediksi': y_pred, 'Aktual': y_test})
df
     
Prediksi	Aktual
0	0.0	0.0
1	1.0	0.0
2	1.0	1.0
3	0.0	0.0
4	1.0	1.0
...	...	...
56	0.0	0.0
57	1.0	1.0
58	0.0	0.0
59	0.0	0.0
60	0.0	0.0
61 rows × 2 columns


# Confusion Matrix
conf_matrix = confusion_matrix(y_test, y_pred)
conf_matrix


     
array([[25,  4],
       [ 4, 28]])

# Evaluasi Kinerja
print(f"accuracy_score {accuracy_score(y_test, y_pred)}")
print(classification_report_imbalanced(y_test, y_pred))
     
accuracy_score 0.8688524590163934
                   pre       rec       spe        f1       geo       iba       sup

        0.0       0.86      0.86      0.88      0.86      0.87      0.75        29
        1.0       0.88      0.88      0.86      0.88      0.87      0.76        32

avg / total       0.87      0.87      0.87      0.87      0.87      0.75        61

Not Run here ||||


pip install imbalanced-learn
     

import pickle
pickle.dump(model, open('klasifikasi_liver.pkl','wb'))
     

%%writefile.app.py
import pickle
import streamlit as st
import pandas as pd
from sklearn.neighbors import KNeighborsClassifier
from sklearn.preprocessing import StandardScaler
from sklearn.model_selection import train_test_split

# Judul Aplikasi
st.title("Aplikasi Prediksi Penyakit Liver")

# Input Data
st.sidebar.header("Input Parameter")
def user_input_features():
    Age = st.sidebar.number_input("Age 20-100", 20, 100, 50)
    Gender = st.sidebar.selectbox("Gender (0 = Female, 1 = Male)", (0, 1))
    Total_Bilirubin = st.sidebar.number_input("Total Bilirubin 0-8", 0.1, 8.0, 1.0)
    Direct_Bilirubin = st.sidebar.number_input("Direct Bilirubin 0-8", 0.1, 8.0, 0.5)
    Alkaline_Phosphotase = st.sidebar.number_input("Alkaline Phosphotase 70-800", 70, 3000, 200)
    Alamine_Aminotransferase = st.sidebar.number_input("Alamine Aminotransferase 100-2000", 10, 2000, 100)
    Aspartate_Aminotransferase = st.sidebar.number_input("Aspartate Aminotransferase 10-3000", 10, 3000, 100)
    Total_Protiens = st.sidebar.number_input("Total Protiens 2-10", 2.0, 10.0, 6.0)
    Albumin = st.sidebar.number_input("Albumin 2-6 ", 2.0, 6.0, 4.0)
    Albumin_and_Globulin_Ratio = st.sidebar.number_input("Albumin and Globulin Ratio 0-3 ", 0.1, 2.5, 1.0)
     
---------------------------------------------------------------------------
ModuleNotFoundError                       Traceback (most recent call last)
<ipython-input-19-ef134b8658a4> in <cell line: 0>()
      1 import pickle
----> 2 import streamlit as st
      3 import pandas as pd
      4 from sklearn.neighbors import KNeighborsClassifier
      5 from sklearn.preprocessing import StandardScaler

ModuleNotFoundError: No module named 'streamlit'

---------------------------------------------------------------------------
NOTE: If your import is failing due to a missing package, you can
manually install dependencies using either !pip or !apt.

To view examples of installing some common dependencies, click the
"Open Examples" button below.
---------------------------------------------------------------------------

import subprocess
import threading

def start_localtunnel():
    subprocess.run(["lt", "--port", "5000", "--subdomain", "yourdesiredsubdomain"])

thread = threading.Thread(target=start_localtunnel)
thread.start()

     
Exception in thread Thread-17 (start_localtunnel):
Traceback (most recent call last):
  File "/usr/lib/python3.11/threading.py", line 1045, in _bootstrap_inner
    self.run()
  File "/usr/lib/python3.11/threading.py", line 982, in run
    self._target(*self._args, **self._kwargs)
  File "<ipython-input-25-92ba3a765fe3>", line 5, in start_localtunnel
  File "/usr/lib/python3.11/subprocess.py", line 548, in run
    with Popen(*popenargs, **kwargs) as process:
         ^^^^^^^^^^^^^^^^^^^^^^^^^^^
  File "/usr/lib/python3.11/subprocess.py", line 1026, in __init__
    self._execute_child(args, executable, preexec_fn, close_fds,
  File "/usr/lib/python3.11/subprocess.py", line 1955, in _execute_child
    raise child_exception_type(errno_num, err_msg, err_filename)
FileNotFoundError: [Errno 2] No such file or directory: 'lt'
bagn
